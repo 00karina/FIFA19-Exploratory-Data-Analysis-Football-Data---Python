{
 "cells": [
  {
   "cell_type": "markdown",
   "metadata": {
    "id": "bx6rtFUgVzoA"
   },
   "source": [
    "# Data Manipulation \n",
    "Data manipulation basically refers to adjusting the data to make it organised and easier to read. We will see some of the data manipulation techniques "
   ]
  },
  {
   "cell_type": "markdown",
   "metadata": {
    "id": "_0lQMxVIIRy8"
   },
   "source": [
    "# Single element change\n",
    "We will see how we can change single element of the dataframe. Let's create a dataframe conaining some NaN"
   ]
  },
  {
   "cell_type": "code",
   "execution_count": null,
   "metadata": {
    "colab": {
     "base_uri": "https://localhost:8080/",
     "height": 204
    },
    "executionInfo": {
     "elapsed": 699,
     "status": "ok",
     "timestamp": 1616493845694,
     "user": {
      "displayName": "Anil Kumar Sah",
      "photoUrl": "",
      "userId": "01161799776166503533"
     },
     "user_tz": -345
    },
    "id": "TEA6JvPQ7j_O",
    "outputId": "27547174-9490-47ee-85a1-148115ee4a5b"
   },
   "outputs": [
    {
     "data": {
      "text/html": [
       "<div>\n",
       "<style scoped>\n",
       "    .dataframe tbody tr th:only-of-type {\n",
       "        vertical-align: middle;\n",
       "    }\n",
       "\n",
       "    .dataframe tbody tr th {\n",
       "        vertical-align: top;\n",
       "    }\n",
       "\n",
       "    .dataframe thead th {\n",
       "        text-align: right;\n",
       "    }\n",
       "</style>\n",
       "<table border=\"1\" class=\"dataframe\">\n",
       "  <thead>\n",
       "    <tr style=\"text-align: right;\">\n",
       "      <th></th>\n",
       "      <th>one</th>\n",
       "      <th>two</th>\n",
       "      <th>three</th>\n",
       "      <th>four</th>\n",
       "    </tr>\n",
       "  </thead>\n",
       "  <tbody>\n",
       "    <tr>\n",
       "      <th>0</th>\n",
       "      <td>a</td>\n",
       "      <td>b</td>\n",
       "      <td>c</td>\n",
       "      <td>d</td>\n",
       "    </tr>\n",
       "    <tr>\n",
       "      <th>1</th>\n",
       "      <td>e</td>\n",
       "      <td>NaN</td>\n",
       "      <td>g</td>\n",
       "      <td>h</td>\n",
       "    </tr>\n",
       "    <tr>\n",
       "      <th>2</th>\n",
       "      <td>i</td>\n",
       "      <td>j</td>\n",
       "      <td>NaN</td>\n",
       "      <td>l</td>\n",
       "    </tr>\n",
       "    <tr>\n",
       "      <th>3</th>\n",
       "      <td>a</td>\n",
       "      <td>e</td>\n",
       "      <td>i</td>\n",
       "      <td>o</td>\n",
       "    </tr>\n",
       "    <tr>\n",
       "      <th>4</th>\n",
       "      <td>s</td>\n",
       "      <td>k</td>\n",
       "      <td>NaN</td>\n",
       "      <td>g</td>\n",
       "    </tr>\n",
       "  </tbody>\n",
       "</table>\n",
       "</div>"
      ],
      "text/plain": [
       "  one  two three four\n",
       "0   a    b     c    d\n",
       "1   e  NaN     g    h\n",
       "2   i    j   NaN    l\n",
       "3   a    e     i    o\n",
       "4   s    k   NaN    g"
      ]
     },
     "execution_count": 30,
     "metadata": {
      "tags": []
     },
     "output_type": "execute_result"
    }
   ],
   "source": [
    "import pandas as pd \n",
    "import numpy as np\n",
    "A = ['a','b','c','d']\n",
    "B = ['e',np.nan,'g','h']\n",
    "C = ['i', 'j', np.nan, 'l']\n",
    "D = ['a', 'e', 'i', 'o']\n",
    "E = ['s', 'k', np.nan, 'g']\n",
    "#create dataframe\n",
    "df = pd.DataFrame(data=[A, B, C, D, E], columns=['one', 'two', 'three', 'four'])\n",
    "\n",
    "#display dataframe\n",
    "df"
   ]
  },
  {
   "cell_type": "markdown",
   "metadata": {
    "id": "6vrJzNlvzDEi"
   },
   "source": [
    "We use loc method using index operator. Here, we include labal name and column name and assigned it with our required value."
   ]
  },
  {
   "cell_type": "code",
   "execution_count": null,
   "metadata": {
    "colab": {
     "base_uri": "https://localhost:8080/",
     "height": 204
    },
    "executionInfo": {
     "elapsed": 1070,
     "status": "ok",
     "timestamp": 1616493970928,
     "user": {
      "displayName": "Anil Kumar Sah",
      "photoUrl": "",
      "userId": "01161799776166503533"
     },
     "user_tz": -345
    },
    "id": "UpFPWB3sCess",
    "outputId": "c0ea60c2-7039-4940-cfc5-69abcfa4ba0f"
   },
   "outputs": [
    {
     "data": {
      "text/html": [
       "<div>\n",
       "<style scoped>\n",
       "    .dataframe tbody tr th:only-of-type {\n",
       "        vertical-align: middle;\n",
       "    }\n",
       "\n",
       "    .dataframe tbody tr th {\n",
       "        vertical-align: top;\n",
       "    }\n",
       "\n",
       "    .dataframe thead th {\n",
       "        text-align: right;\n",
       "    }\n",
       "</style>\n",
       "<table border=\"1\" class=\"dataframe\">\n",
       "  <thead>\n",
       "    <tr style=\"text-align: right;\">\n",
       "      <th></th>\n",
       "      <th>one</th>\n",
       "      <th>two</th>\n",
       "      <th>three</th>\n",
       "      <th>four</th>\n",
       "    </tr>\n",
       "  </thead>\n",
       "  <tbody>\n",
       "    <tr>\n",
       "      <th>0</th>\n",
       "      <td>5</td>\n",
       "      <td>b</td>\n",
       "      <td>c</td>\n",
       "      <td>d</td>\n",
       "    </tr>\n",
       "    <tr>\n",
       "      <th>1</th>\n",
       "      <td>e</td>\n",
       "      <td>NaN</td>\n",
       "      <td>g</td>\n",
       "      <td>h</td>\n",
       "    </tr>\n",
       "    <tr>\n",
       "      <th>2</th>\n",
       "      <td>i</td>\n",
       "      <td>j</td>\n",
       "      <td>NaN</td>\n",
       "      <td>l</td>\n",
       "    </tr>\n",
       "    <tr>\n",
       "      <th>3</th>\n",
       "      <td>a</td>\n",
       "      <td>e</td>\n",
       "      <td>i</td>\n",
       "      <td>o</td>\n",
       "    </tr>\n",
       "    <tr>\n",
       "      <th>4</th>\n",
       "      <td>s</td>\n",
       "      <td>k</td>\n",
       "      <td>NaN</td>\n",
       "      <td>g</td>\n",
       "    </tr>\n",
       "  </tbody>\n",
       "</table>\n",
       "</div>"
      ],
      "text/plain": [
       "  one  two three four\n",
       "0   5    b     c    d\n",
       "1   e  NaN     g    h\n",
       "2   i    j   NaN    l\n",
       "3   a    e     i    o\n",
       "4   s    k   NaN    g"
      ]
     },
     "execution_count": 31,
     "metadata": {
      "tags": []
     },
     "output_type": "execute_result"
    }
   ],
   "source": [
    "df.loc[0, 'one'] =5\n",
    "df"
   ]
  },
  {
   "cell_type": "markdown",
   "metadata": {
    "id": "fdu82UmsM0Bp"
   },
   "source": [
    "# Fillna()\n",
    "It is used for updating missing values. Let's see how we can use pandas fillna."
   ]
  },
  {
   "cell_type": "code",
   "execution_count": null,
   "metadata": {
    "id": "Z6QPjeo1DIJ3"
   },
   "outputs": [],
   "source": [
    "# inplace = True which indicates we make changes in the original dataframe\n",
    "\n",
    "df.fillna('2', inplace= True)"
   ]
  },
  {
   "cell_type": "code",
   "execution_count": null,
   "metadata": {
    "colab": {
     "base_uri": "https://localhost:8080/",
     "height": 204
    },
    "executionInfo": {
     "elapsed": 1109,
     "status": "ok",
     "timestamp": 1616494594828,
     "user": {
      "displayName": "Anil Kumar Sah",
      "photoUrl": "",
      "userId": "01161799776166503533"
     },
     "user_tz": -345
    },
    "id": "kC2GO-UPJ614",
    "outputId": "adfcfecb-27e2-49a4-e99c-13ad8675b681"
   },
   "outputs": [
    {
     "data": {
      "text/html": [
       "<div>\n",
       "<style scoped>\n",
       "    .dataframe tbody tr th:only-of-type {\n",
       "        vertical-align: middle;\n",
       "    }\n",
       "\n",
       "    .dataframe tbody tr th {\n",
       "        vertical-align: top;\n",
       "    }\n",
       "\n",
       "    .dataframe thead th {\n",
       "        text-align: right;\n",
       "    }\n",
       "</style>\n",
       "<table border=\"1\" class=\"dataframe\">\n",
       "  <thead>\n",
       "    <tr style=\"text-align: right;\">\n",
       "      <th></th>\n",
       "      <th>one</th>\n",
       "      <th>two</th>\n",
       "      <th>three</th>\n",
       "      <th>four</th>\n",
       "    </tr>\n",
       "  </thead>\n",
       "  <tbody>\n",
       "    <tr>\n",
       "      <th>0</th>\n",
       "      <td>5</td>\n",
       "      <td>b</td>\n",
       "      <td>c</td>\n",
       "      <td>d</td>\n",
       "    </tr>\n",
       "    <tr>\n",
       "      <th>1</th>\n",
       "      <td>e</td>\n",
       "      <td>2</td>\n",
       "      <td>g</td>\n",
       "      <td>h</td>\n",
       "    </tr>\n",
       "    <tr>\n",
       "      <th>2</th>\n",
       "      <td>i</td>\n",
       "      <td>j</td>\n",
       "      <td>2</td>\n",
       "      <td>l</td>\n",
       "    </tr>\n",
       "    <tr>\n",
       "      <th>3</th>\n",
       "      <td>a</td>\n",
       "      <td>e</td>\n",
       "      <td>i</td>\n",
       "      <td>o</td>\n",
       "    </tr>\n",
       "    <tr>\n",
       "      <th>4</th>\n",
       "      <td>s</td>\n",
       "      <td>k</td>\n",
       "      <td>2</td>\n",
       "      <td>g</td>\n",
       "    </tr>\n",
       "  </tbody>\n",
       "</table>\n",
       "</div>"
      ],
      "text/plain": [
       "  one two three four\n",
       "0   5   b     c    d\n",
       "1   e   2     g    h\n",
       "2   i   j     2    l\n",
       "3   a   e     i    o\n",
       "4   s   k     2    g"
      ]
     },
     "execution_count": 33,
     "metadata": {
      "tags": []
     },
     "output_type": "execute_result"
    }
   ],
   "source": [
    "df"
   ]
  },
  {
   "cell_type": "markdown",
   "metadata": {
    "id": "hTDKJJstUCW8"
   },
   "source": [
    "# drop_na()\n",
    "If you want to exclude labels from a data set which refer to missing data, you can use dropna(). The dropna() function simply drop Rows/Columns of datasets with Null values in different ways. Fo this we need to specify the parameters axis: axis takes int or string value for rows/columns. Input can be 0 or 1 for Integer and 'index' or 'columns' for String."
   ]
  },
  {
   "cell_type": "code",
   "execution_count": null,
   "metadata": {
    "colab": {
     "base_uri": "https://localhost:8080/",
     "height": 204
    },
    "executionInfo": {
     "elapsed": 1359,
     "status": "ok",
     "timestamp": 1616495237942,
     "user": {
      "displayName": "Anil Kumar Sah",
      "photoUrl": "",
      "userId": "01161799776166503533"
     },
     "user_tz": -345
    },
    "id": "v3U3fhIHUfsI",
    "outputId": "73a966e5-44b3-45b8-df71-f30965cd381f"
   },
   "outputs": [
    {
     "data": {
      "text/html": [
       "<div>\n",
       "<style scoped>\n",
       "    .dataframe tbody tr th:only-of-type {\n",
       "        vertical-align: middle;\n",
       "    }\n",
       "\n",
       "    .dataframe tbody tr th {\n",
       "        vertical-align: top;\n",
       "    }\n",
       "\n",
       "    .dataframe thead th {\n",
       "        text-align: right;\n",
       "    }\n",
       "</style>\n",
       "<table border=\"1\" class=\"dataframe\">\n",
       "  <thead>\n",
       "    <tr style=\"text-align: right;\">\n",
       "      <th></th>\n",
       "      <th>one</th>\n",
       "      <th>two</th>\n",
       "      <th>three</th>\n",
       "      <th>four</th>\n",
       "    </tr>\n",
       "  </thead>\n",
       "  <tbody>\n",
       "    <tr>\n",
       "      <th>0</th>\n",
       "      <td>a</td>\n",
       "      <td>b</td>\n",
       "      <td>c</td>\n",
       "      <td>d</td>\n",
       "    </tr>\n",
       "    <tr>\n",
       "      <th>1</th>\n",
       "      <td>e</td>\n",
       "      <td>NaN</td>\n",
       "      <td>g</td>\n",
       "      <td>h</td>\n",
       "    </tr>\n",
       "    <tr>\n",
       "      <th>2</th>\n",
       "      <td>i</td>\n",
       "      <td>j</td>\n",
       "      <td>NaN</td>\n",
       "      <td>l</td>\n",
       "    </tr>\n",
       "    <tr>\n",
       "      <th>3</th>\n",
       "      <td>a</td>\n",
       "      <td>e</td>\n",
       "      <td>i</td>\n",
       "      <td>o</td>\n",
       "    </tr>\n",
       "    <tr>\n",
       "      <th>4</th>\n",
       "      <td>s</td>\n",
       "      <td>k</td>\n",
       "      <td>NaN</td>\n",
       "      <td>g</td>\n",
       "    </tr>\n",
       "  </tbody>\n",
       "</table>\n",
       "</div>"
      ],
      "text/plain": [
       "  one  two three four\n",
       "0   a    b     c    d\n",
       "1   e  NaN     g    h\n",
       "2   i    j   NaN    l\n",
       "3   a    e     i    o\n",
       "4   s    k   NaN    g"
      ]
     },
     "execution_count": 34,
     "metadata": {
      "tags": []
     },
     "output_type": "execute_result"
    }
   ],
   "source": [
    "import pandas as pd \n",
    "import numpy as np\n",
    "A = ['a','b','c','d']\n",
    "B = ['e',np.nan,'g','h']\n",
    "C = ['i', 'j', np.nan, 'l']\n",
    "D = ['a', 'e', 'i', 'o']\n",
    "E = ['s', 'k', np.nan, 'g']\n",
    "#create dataframe\n",
    "df = pd.DataFrame(data=[A, B, C, D, E], columns=['one', 'two', 'three', 'four'])\n",
    "\n",
    "#display dataframe\n",
    "df"
   ]
  },
  {
   "cell_type": "markdown",
   "metadata": {
    "id": "FeU0gaqhoD4l"
   },
   "source": [
    "## Drop along the row\n",
    "To perform drop along the row, we need to define axis as zero or we can ignore axis paramter."
   ]
  },
  {
   "cell_type": "code",
   "execution_count": null,
   "metadata": {
    "colab": {
     "base_uri": "https://localhost:8080/",
     "height": 111
    },
    "executionInfo": {
     "elapsed": 1100,
     "status": "ok",
     "timestamp": 1616495287466,
     "user": {
      "displayName": "Anil Kumar Sah",
      "photoUrl": "",
      "userId": "01161799776166503533"
     },
     "user_tz": -345
    },
    "id": "L2WJsQQNoG4y",
    "outputId": "3dcea9c8-68de-4afc-928a-2c15d07faf72"
   },
   "outputs": [
    {
     "data": {
      "text/html": [
       "<div>\n",
       "<style scoped>\n",
       "    .dataframe tbody tr th:only-of-type {\n",
       "        vertical-align: middle;\n",
       "    }\n",
       "\n",
       "    .dataframe tbody tr th {\n",
       "        vertical-align: top;\n",
       "    }\n",
       "\n",
       "    .dataframe thead th {\n",
       "        text-align: right;\n",
       "    }\n",
       "</style>\n",
       "<table border=\"1\" class=\"dataframe\">\n",
       "  <thead>\n",
       "    <tr style=\"text-align: right;\">\n",
       "      <th></th>\n",
       "      <th>one</th>\n",
       "      <th>two</th>\n",
       "      <th>three</th>\n",
       "      <th>four</th>\n",
       "    </tr>\n",
       "  </thead>\n",
       "  <tbody>\n",
       "    <tr>\n",
       "      <th>0</th>\n",
       "      <td>a</td>\n",
       "      <td>b</td>\n",
       "      <td>c</td>\n",
       "      <td>d</td>\n",
       "    </tr>\n",
       "    <tr>\n",
       "      <th>3</th>\n",
       "      <td>a</td>\n",
       "      <td>e</td>\n",
       "      <td>i</td>\n",
       "      <td>o</td>\n",
       "    </tr>\n",
       "  </tbody>\n",
       "</table>\n",
       "</div>"
      ],
      "text/plain": [
       "  one two three four\n",
       "0   a   b     c    d\n",
       "3   a   e     i    o"
      ]
     },
     "execution_count": 36,
     "metadata": {
      "tags": []
     },
     "output_type": "execute_result"
    }
   ],
   "source": [
    "df.dropna()"
   ]
  },
  {
   "cell_type": "markdown",
   "metadata": {
    "id": "jtc0hjRKn_V7"
   },
   "source": [
    "## Drop along the column\n",
    "To perform drop along the column, we need to define axis as one."
   ]
  },
  {
   "cell_type": "code",
   "execution_count": null,
   "metadata": {
    "colab": {
     "base_uri": "https://localhost:8080/",
     "height": 204
    },
    "executionInfo": {
     "elapsed": 1448,
     "status": "ok",
     "timestamp": 1616495239487,
     "user": {
      "displayName": "Anil Kumar Sah",
      "photoUrl": "",
      "userId": "01161799776166503533"
     },
     "user_tz": -345
    },
    "id": "rNH6wZNsUCox",
    "outputId": "86d8a100-ceab-410a-cbce-3dcc20f2840f"
   },
   "outputs": [
    {
     "data": {
      "text/html": [
       "<div>\n",
       "<style scoped>\n",
       "    .dataframe tbody tr th:only-of-type {\n",
       "        vertical-align: middle;\n",
       "    }\n",
       "\n",
       "    .dataframe tbody tr th {\n",
       "        vertical-align: top;\n",
       "    }\n",
       "\n",
       "    .dataframe thead th {\n",
       "        text-align: right;\n",
       "    }\n",
       "</style>\n",
       "<table border=\"1\" class=\"dataframe\">\n",
       "  <thead>\n",
       "    <tr style=\"text-align: right;\">\n",
       "      <th></th>\n",
       "      <th>one</th>\n",
       "      <th>four</th>\n",
       "    </tr>\n",
       "  </thead>\n",
       "  <tbody>\n",
       "    <tr>\n",
       "      <th>0</th>\n",
       "      <td>a</td>\n",
       "      <td>d</td>\n",
       "    </tr>\n",
       "    <tr>\n",
       "      <th>1</th>\n",
       "      <td>e</td>\n",
       "      <td>h</td>\n",
       "    </tr>\n",
       "    <tr>\n",
       "      <th>2</th>\n",
       "      <td>i</td>\n",
       "      <td>l</td>\n",
       "    </tr>\n",
       "    <tr>\n",
       "      <th>3</th>\n",
       "      <td>a</td>\n",
       "      <td>o</td>\n",
       "    </tr>\n",
       "    <tr>\n",
       "      <th>4</th>\n",
       "      <td>s</td>\n",
       "      <td>g</td>\n",
       "    </tr>\n",
       "  </tbody>\n",
       "</table>\n",
       "</div>"
      ],
      "text/plain": [
       "  one four\n",
       "0   a    d\n",
       "1   e    h\n",
       "2   i    l\n",
       "3   a    o\n",
       "4   s    g"
      ]
     },
     "execution_count": 35,
     "metadata": {
      "tags": []
     },
     "output_type": "execute_result"
    }
   ],
   "source": [
    "df.dropna(axis=1)"
   ]
  },
  {
   "cell_type": "markdown",
   "metadata": {
    "id": "m-t-GpPjDk5u"
   },
   "source": [
    "# Apply functions\n",
    "Let us say you have some data, and you want to apply a function on every item of the dataframe. We can apply it row-wise or column-wise, according to your requirements. It can also be a custom function that you make. "
   ]
  },
  {
   "cell_type": "code",
   "execution_count": null,
   "metadata": {
    "colab": {
     "base_uri": "https://localhost:8080/",
     "height": 168
    },
    "executionInfo": {
     "elapsed": 1040,
     "status": "ok",
     "timestamp": 1571744231836,
     "user": {
      "displayName": "Aditi Gajurel",
      "photoUrl": "",
      "userId": "01206040013223447356"
     },
     "user_tz": -345
    },
    "id": "8qTBbLSgAfEo",
    "outputId": "09e8c43e-04f3-4aa0-a48c-e071a33e502b"
   },
   "outputs": [
    {
     "data": {
      "text/html": [
       "<div>\n",
       "<style scoped>\n",
       "    .dataframe tbody tr th:only-of-type {\n",
       "        vertical-align: middle;\n",
       "    }\n",
       "\n",
       "    .dataframe tbody tr th {\n",
       "        vertical-align: top;\n",
       "    }\n",
       "\n",
       "    .dataframe thead th {\n",
       "        text-align: right;\n",
       "    }\n",
       "</style>\n",
       "<table border=\"1\" class=\"dataframe\">\n",
       "  <thead>\n",
       "    <tr style=\"text-align: right;\">\n",
       "      <th></th>\n",
       "      <th>A</th>\n",
       "      <th>B</th>\n",
       "    </tr>\n",
       "  </thead>\n",
       "  <tbody>\n",
       "    <tr>\n",
       "      <th>0</th>\n",
       "      <td>1</td>\n",
       "      <td>5</td>\n",
       "    </tr>\n",
       "    <tr>\n",
       "      <th>1</th>\n",
       "      <td>2</td>\n",
       "      <td>6</td>\n",
       "    </tr>\n",
       "    <tr>\n",
       "      <th>2</th>\n",
       "      <td>3</td>\n",
       "      <td>7</td>\n",
       "    </tr>\n",
       "    <tr>\n",
       "      <th>3</th>\n",
       "      <td>4</td>\n",
       "      <td>8</td>\n",
       "    </tr>\n",
       "  </tbody>\n",
       "</table>\n",
       "</div>"
      ],
      "text/plain": [
       "   A  B\n",
       "0  1  5\n",
       "1  2  6\n",
       "2  3  7\n",
       "3  4  8"
      ]
     },
     "execution_count": 23,
     "metadata": {
      "tags": []
     },
     "output_type": "execute_result"
    }
   ],
   "source": [
    "import pandas as pd\n",
    "dic = {'A':[1,2,3,4], 'B':[5,6,7,8]}\n",
    "df = pd.DataFrame(dic)\n",
    "df"
   ]
  },
  {
   "cell_type": "markdown",
   "metadata": {
    "id": "OpQfJ_zyQvX7"
   },
   "source": [
    "Consider the dataframe above. Now we define a function that we want to apply to every member of the dataframe. Let us consider the function `sum()`. "
   ]
  },
  {
   "cell_type": "code",
   "execution_count": null,
   "metadata": {
    "colab": {
     "base_uri": "https://localhost:8080/",
     "height": 72
    },
    "executionInfo": {
     "elapsed": 1194,
     "status": "ok",
     "timestamp": 1571744249652,
     "user": {
      "displayName": "Aditi Gajurel",
      "photoUrl": "",
      "userId": "01206040013223447356"
     },
     "user_tz": -345
    },
    "id": "Yjm1F-BgGhLP",
    "outputId": "e0a7094f-97b4-4aa9-b2dc-ed6197ab62fa"
   },
   "outputs": [
    {
     "data": {
      "text/plain": [
       "A    10\n",
       "B    26\n",
       "dtype: int64"
      ]
     },
     "execution_count": 24,
     "metadata": {
      "tags": []
     },
     "output_type": "execute_result"
    }
   ],
   "source": [
    "df.apply(sum, axis=0)"
   ]
  },
  {
   "cell_type": "markdown",
   "metadata": {
    "id": "sRfWfRtQIO8V"
   },
   "source": [
    "Notice that we have passed the function without the parentheses. We have received the sum of all the rows in A and B. This is because we put the parameter `axis=0`. If the axis is 1, we can perform these functions on the columns instead."
   ]
  },
  {
   "cell_type": "code",
   "execution_count": null,
   "metadata": {
    "colab": {
     "base_uri": "https://localhost:8080/",
     "height": 108
    },
    "executionInfo": {
     "elapsed": 1090,
     "status": "ok",
     "timestamp": 1571744288055,
     "user": {
      "displayName": "Aditi Gajurel",
      "photoUrl": "",
      "userId": "01206040013223447356"
     },
     "user_tz": -345
    },
    "id": "NHA-DuerJHGA",
    "outputId": "f672d6ca-c3e1-4a76-809c-6874c50a1d0a"
   },
   "outputs": [
    {
     "data": {
      "text/plain": [
       "0     6\n",
       "1     8\n",
       "2    10\n",
       "3    12\n",
       "dtype: int64"
      ]
     },
     "execution_count": 25,
     "metadata": {
      "tags": []
     },
     "output_type": "execute_result"
    }
   ],
   "source": [
    "df.apply(sum, axis=1)"
   ]
  },
  {
   "cell_type": "markdown",
   "metadata": {
    "id": "ohSgJKL69Ovl"
   },
   "source": [
    "## Filter()\n",
    "Now let’s see another function called Pandas dataframe filter function. The filter function is used to Subset rows or columns of dataframe according to labels in the specified index. The things to notice is that the filter is applied to the labels of the index,this does not filter a dataframe on its contents. "
   ]
  },
  {
   "cell_type": "code",
   "execution_count": null,
   "metadata": {
    "colab": {
     "base_uri": "https://localhost:8080/"
    },
    "executionInfo": {
     "elapsed": 1011,
     "status": "ok",
     "timestamp": 1616646119622,
     "user": {
      "displayName": "Anil Kumar Sah",
      "photoUrl": "",
      "userId": "01161799776166503533"
     },
     "user_tz": -345
    },
    "id": "p8RQpkz89Nvf",
    "outputId": "24986d4a-0e94-43b1-e86f-48be671dac8b"
   },
   "outputs": [
    {
     "data": {
      "text/plain": [
       "Coca Cola    45\n",
       "Coke         40\n",
       "Fanta        40\n",
       "Dew          50\n",
       "Thumbs Up    30\n",
       "dtype: int64"
      ]
     },
     "execution_count": 16,
     "metadata": {
      "tags": []
     },
     "output_type": "execute_result"
    }
   ],
   "source": [
    "# importing pandas as pd\n",
    "import pandas as pd\n",
    "  \n",
    "# Creating the Series\n",
    "sr = pd.Series({'Coca Cola': 45, 'Coke': 40, 'Fanta': 40, 'Dew': 50, 'Thumbs Up':30})\n",
    "\n",
    "# Print the series\n",
    "sr"
   ]
  },
  {
   "cell_type": "code",
   "execution_count": null,
   "metadata": {
    "colab": {
     "base_uri": "https://localhost:8080/"
    },
    "executionInfo": {
     "elapsed": 963,
     "status": "ok",
     "timestamp": 1616646608522,
     "user": {
      "displayName": "Anil Kumar Sah",
      "photoUrl": "",
      "userId": "01161799776166503533"
     },
     "user_tz": -345
    },
    "id": "QmkM5w2ESRCQ",
    "outputId": "4aae31c9-12d7-4286-8323-479574ad28a8"
   },
   "outputs": [
    {
     "data": {
      "text/plain": [
       "Coca Cola    45\n",
       "Thumbs Up    30\n",
       "dtype: int64"
      ]
     },
     "execution_count": 17,
     "metadata": {
      "tags": []
     },
     "output_type": "execute_result"
    }
   ],
   "source": [
    "# filter values\n",
    "sr.filter(regex = '. .')\n"
   ]
  },
  {
   "cell_type": "code",
   "execution_count": null,
   "metadata": {
    "colab": {
     "base_uri": "https://localhost:8080/"
    },
    "executionInfo": {
     "elapsed": 1032,
     "status": "ok",
     "timestamp": 1616647642841,
     "user": {
      "displayName": "Anil Kumar Sah",
      "photoUrl": "",
      "userId": "01161799776166503533"
     },
     "user_tz": -345
    },
    "id": "SFdd6t79Xk06",
    "outputId": "ad9b78b6-307d-4300-b0f6-6b79e16bc822"
   },
   "outputs": [
    {
     "data": {
      "text/plain": [
       "Coke     40\n",
       "Fanta    40\n",
       "dtype: int64"
      ]
     },
     "execution_count": 19,
     "metadata": {
      "tags": []
     },
     "output_type": "execute_result"
    }
   ],
   "source": [
    "sr.filter(items=['Coke', 'Fanta'])"
   ]
  },
  {
   "cell_type": "markdown",
   "metadata": {
    "id": "-fcodStqj7io"
   },
   "source": [
    "# References:\n",
    "* [Panadas Fillna](https://pandas.pydata.org/docs/reference/api/pandas.DataFrame.fillna.html)\n",
    "* [Pandas drop_na](https://pandas.pydata.org/pandas-docs/stable/reference/api/pandas.DataFrame.dropna.html)\n",
    "* [Pandas Filter](https://pandas.pydata.org/docs/reference/api/pandas.DataFrame.filter.html)"
   ]
  }
 ],
 "metadata": {
  "colab": {
   "authorship_tag": "ABX9TyNZGZH+dls4Pmk8tCbTwDJ3",
   "collapsed_sections": [],
   "name": "Read: Data Manipulation.ipynb",
   "provenance": [],
   "toc_visible": true
  },
  "kernelspec": {
   "display_name": "Python 3",
   "language": "python",
   "name": "python3"
  },
  "language_info": {
   "codemirror_mode": {
    "name": "ipython",
    "version": 3
   },
   "file_extension": ".py",
   "mimetype": "text/x-python",
   "name": "python",
   "nbconvert_exporter": "python",
   "pygments_lexer": "ipython3",
   "version": "3.8.3"
  }
 },
 "nbformat": 4,
 "nbformat_minor": 1
}
