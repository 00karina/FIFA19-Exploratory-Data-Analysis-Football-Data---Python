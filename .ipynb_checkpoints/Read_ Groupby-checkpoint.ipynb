{
 "cells": [
  {
   "cell_type": "markdown",
   "metadata": {
    "id": "EGI1_jnppbbh"
   },
   "source": [
    "# Groupby\n",
    "There are certain situations where you need to find groups in columns of a dataframe. You might want to perform specific actions to specific groups. For example, let's say you have a database of all the students at a university. You want to group all the students by \"current\" or \"alumni.\" The database has a column called \"Status.\" For every student, it has either a value of \"current\" or a value of \"alumni.\" These kinds of features that separate the data into groups, or categories, are called categorical features. The command groupby is used predominantly for categorical grouping variables. \n",
    "\n",
    "As you move through the examples, you can understand better. \n",
    "Let's look at the following dataframe."
   ]
  },
  {
   "cell_type": "code",
   "execution_count": null,
   "metadata": {
    "colab": {
     "base_uri": "https://localhost:8080/",
     "height": 204
    },
    "executionInfo": {
     "elapsed": 2455,
     "status": "ok",
     "timestamp": 1571825824138,
     "user": {
      "displayName": "Digya Acharya",
      "photoUrl": "https://lh3.googleusercontent.com/a-/AAuE7mDQGFqul45gL_YMWW21pZDjfemVsj-sTDyefPiJ=s64",
      "userId": "17664592644574510343"
     },
     "user_tz": -345
    },
    "id": "EZZJu1kWxP-J",
    "outputId": "5a603f10-ea3c-4ab2-942e-de0afb4bcf6e"
   },
   "outputs": [
    {
     "data": {
      "text/html": [
       "<div>\n",
       "<style scoped>\n",
       "    .dataframe tbody tr th:only-of-type {\n",
       "        vertical-align: middle;\n",
       "    }\n",
       "\n",
       "    .dataframe tbody tr th {\n",
       "        vertical-align: top;\n",
       "    }\n",
       "\n",
       "    .dataframe thead th {\n",
       "        text-align: right;\n",
       "    }\n",
       "</style>\n",
       "<table border=\"1\" class=\"dataframe\">\n",
       "  <thead>\n",
       "    <tr style=\"text-align: right;\">\n",
       "      <th></th>\n",
       "      <th>Name</th>\n",
       "      <th>Status</th>\n",
       "      <th>Fees</th>\n",
       "      <th>Score</th>\n",
       "      <th>Score2</th>\n",
       "    </tr>\n",
       "  </thead>\n",
       "  <tbody>\n",
       "    <tr>\n",
       "      <th>0</th>\n",
       "      <td>Bob</td>\n",
       "      <td>Current</td>\n",
       "      <td>Due</td>\n",
       "      <td>78</td>\n",
       "      <td>67.0</td>\n",
       "    </tr>\n",
       "    <tr>\n",
       "      <th>1</th>\n",
       "      <td>Sam</td>\n",
       "      <td>Alumni</td>\n",
       "      <td>Clear</td>\n",
       "      <td>68</td>\n",
       "      <td>87.0</td>\n",
       "    </tr>\n",
       "    <tr>\n",
       "      <th>2</th>\n",
       "      <td>Mary</td>\n",
       "      <td>Alumni</td>\n",
       "      <td>Scholarship</td>\n",
       "      <td>89</td>\n",
       "      <td>96.0</td>\n",
       "    </tr>\n",
       "    <tr>\n",
       "      <th>3</th>\n",
       "      <td>Alice</td>\n",
       "      <td>Alumni</td>\n",
       "      <td>Scholarship</td>\n",
       "      <td>87</td>\n",
       "      <td>95.0</td>\n",
       "    </tr>\n",
       "    <tr>\n",
       "      <th>4</th>\n",
       "      <td>Beth</td>\n",
       "      <td>Current</td>\n",
       "      <td>Due</td>\n",
       "      <td>76</td>\n",
       "      <td>NaN</td>\n",
       "    </tr>\n",
       "  </tbody>\n",
       "</table>\n",
       "</div>"
      ],
      "text/plain": [
       "    Name   Status         Fees  Score  Score2\n",
       "0    Bob  Current          Due     78    67.0\n",
       "1    Sam   Alumni        Clear     68    87.0\n",
       "2   Mary   Alumni  Scholarship     89    96.0\n",
       "3  Alice   Alumni  Scholarship     87    95.0\n",
       "4   Beth  Current          Due     76     NaN"
      ]
     },
     "execution_count": 1,
     "metadata": {
      "tags": []
     },
     "output_type": "execute_result"
    }
   ],
   "source": [
    "import numpy as np\n",
    "dic = {\n",
    "    'Name': ['Bob','Sam','Mary','Alice','Beth'],\n",
    "    'Status': ['Current','Alumni','Alumni','Alumni','Current'],\n",
    "    'Fees': ['Due', 'Clear', 'Scholarship', 'Scholarship', 'Due'],\n",
    "    'Score': [78,68,89,87,76],\n",
    "    'Score2': [67,87,96,95,np.nan]\n",
    "}\n",
    "import pandas as pd\n",
    "df = pd.DataFrame(dic)\n",
    "df"
   ]
  },
  {
   "cell_type": "markdown",
   "metadata": {
    "id": "FONmcGpXxSwD"
   },
   "source": [
    "As you can see, there are two categorical features. One is status, and the other is fees. As a side note, notice that one of the values for the score is missing.\n",
    "\n",
    "Now, let's group the students by status. "
   ]
  },
  {
   "cell_type": "code",
   "execution_count": null,
   "metadata": {
    "id": "jIJvnheCxmho"
   },
   "outputs": [],
   "source": [
    "status = df.groupby('Status')"
   ]
  },
  {
   "cell_type": "markdown",
   "metadata": {
    "id": "bmdmm0LPyS60"
   },
   "source": [
    "Now let us see how many groups there are."
   ]
  },
  {
   "cell_type": "code",
   "execution_count": null,
   "metadata": {
    "colab": {
     "base_uri": "https://localhost:8080/",
     "height": 53
    },
    "executionInfo": {
     "elapsed": 5818,
     "status": "ok",
     "timestamp": 1571825827513,
     "user": {
      "displayName": "Digya Acharya",
      "photoUrl": "https://lh3.googleusercontent.com/a-/AAuE7mDQGFqul45gL_YMWW21pZDjfemVsj-sTDyefPiJ=s64",
      "userId": "17664592644574510343"
     },
     "user_tz": -345
    },
    "id": "BHVSpwE1yWS9",
    "outputId": "26faa5f3-2d2d-463b-e78b-ef16aaad39ed"
   },
   "outputs": [
    {
     "data": {
      "text/plain": [
       "{'Alumni': Int64Index([1, 2, 3], dtype='int64'),\n",
       " 'Current': Int64Index([0, 4], dtype='int64')}"
      ]
     },
     "execution_count": 3,
     "metadata": {
      "tags": []
     },
     "output_type": "execute_result"
    }
   ],
   "source": [
    "status.groups"
   ]
  },
  {
   "cell_type": "markdown",
   "metadata": {
    "id": "_jZhRdm0ygLi"
   },
   "source": [
    "We can see the two groups. If you can imagine a large dataset with many groups, it might be beneficial to be able to group them and see how many there are. The above output above also contains other information about how the computer is storing these groups in memory. \n",
    "\n",
    "Just for good measure, let's make another group for the \"Fees\" column."
   ]
  },
  {
   "cell_type": "code",
   "execution_count": null,
   "metadata": {
    "colab": {
     "base_uri": "https://localhost:8080/",
     "height": 71
    },
    "executionInfo": {
     "elapsed": 5813,
     "status": "ok",
     "timestamp": 1571825827515,
     "user": {
      "displayName": "Digya Acharya",
      "photoUrl": "https://lh3.googleusercontent.com/a-/AAuE7mDQGFqul45gL_YMWW21pZDjfemVsj-sTDyefPiJ=s64",
      "userId": "17664592644574510343"
     },
     "user_tz": -345
    },
    "id": "BTr_61_9zC12",
    "outputId": "c30d19e0-7df2-49b2-c441-61a7b1e685b0"
   },
   "outputs": [
    {
     "data": {
      "text/plain": [
       "{'Clear': Int64Index([1], dtype='int64'),\n",
       " 'Due': Int64Index([0, 4], dtype='int64'),\n",
       " 'Scholarship': Int64Index([2, 3], dtype='int64')}"
      ]
     },
     "execution_count": 4,
     "metadata": {
      "tags": []
     },
     "output_type": "execute_result"
    }
   ],
   "source": [
    "fees = df.groupby('Fees')\n",
    "fees.groups"
   ]
  },
  {
   "cell_type": "markdown",
   "metadata": {
    "id": "XilathLWIMJR"
   },
   "source": [
    "## Internal operations in GroupBy (Split, apply, combine)\n",
    "\n",
    "![](https://docs.google.com/uc?export=download&id=1N9e_ciPt26aL6IpGcjO8JeW213ZL8qAH)\n",
    "\n",
    "Source Image: https://jakevdp.github.io/PythonDataScienceHandbook/03.08-aggregation-and-grouping.html\n",
    "\n",
    "The GroupBy operation:\n",
    "\n",
    "1. First, it splits the dataframe based on the specified key.\n",
    "2. Second, it aggregates, transforms, or filter the individual groups in the application step.\n",
    "3. Finally, it merges the results of the operations in the combining step.\n",
    "\n",
    "We can use other operations of Pandas to perform this operation; the groupBy operation performs this in a single pass, i.e., it abstracts away the manual steps. \n"
   ]
  },
  {
   "cell_type": "markdown",
   "metadata": {
    "id": "fpc-s0IPzLYT"
   },
   "source": [
    "## Performing actions on groups\n",
    "\n",
    "Now that we have successfully grouped items, we can perform computations on these different groups. \n",
    "\n",
    "### Counting\n",
    "We can count how many students there are in each group."
   ]
  },
  {
   "cell_type": "code",
   "execution_count": null,
   "metadata": {
    "id": "pD5JsxgKxSUC"
   },
   "outputs": [],
   "source": []
  },
  {
   "cell_type": "code",
   "execution_count": null,
   "metadata": {
    "colab": {
     "base_uri": "https://localhost:8080/",
     "height": 142
    },
    "executionInfo": {
     "elapsed": 1072,
     "status": "ok",
     "timestamp": 1571826470811,
     "user": {
      "displayName": "Digya Acharya",
      "photoUrl": "https://lh3.googleusercontent.com/a-/AAuE7mDQGFqul45gL_YMWW21pZDjfemVsj-sTDyefPiJ=s64",
      "userId": "17664592644574510343"
     },
     "user_tz": -345
    },
    "id": "vyecozbH0zrf",
    "outputId": "156cdeb9-518e-4a0f-ba24-7b7a0ad01b9d"
   },
   "outputs": [
    {
     "data": {
      "text/html": [
       "<div>\n",
       "<style scoped>\n",
       "    .dataframe tbody tr th:only-of-type {\n",
       "        vertical-align: middle;\n",
       "    }\n",
       "\n",
       "    .dataframe tbody tr th {\n",
       "        vertical-align: top;\n",
       "    }\n",
       "\n",
       "    .dataframe thead th {\n",
       "        text-align: right;\n",
       "    }\n",
       "</style>\n",
       "<table border=\"1\" class=\"dataframe\">\n",
       "  <thead>\n",
       "    <tr style=\"text-align: right;\">\n",
       "      <th></th>\n",
       "      <th>Name</th>\n",
       "      <th>Fees</th>\n",
       "      <th>Score</th>\n",
       "      <th>Score2</th>\n",
       "    </tr>\n",
       "    <tr>\n",
       "      <th>Status</th>\n",
       "      <th></th>\n",
       "      <th></th>\n",
       "      <th></th>\n",
       "      <th></th>\n",
       "    </tr>\n",
       "  </thead>\n",
       "  <tbody>\n",
       "    <tr>\n",
       "      <th>Alumni</th>\n",
       "      <td>3</td>\n",
       "      <td>3</td>\n",
       "      <td>3</td>\n",
       "      <td>3</td>\n",
       "    </tr>\n",
       "    <tr>\n",
       "      <th>Current</th>\n",
       "      <td>2</td>\n",
       "      <td>2</td>\n",
       "      <td>2</td>\n",
       "      <td>1</td>\n",
       "    </tr>\n",
       "  </tbody>\n",
       "</table>\n",
       "</div>"
      ],
      "text/plain": [
       "         Name  Fees  Score  Score2\n",
       "Status                            \n",
       "Alumni      3     3      3       3\n",
       "Current     2     2      2       1"
      ]
     },
     "execution_count": 10,
     "metadata": {
      "tags": []
     },
     "output_type": "execute_result"
    }
   ],
   "source": [
    "status.count()"
   ]
  },
  {
   "cell_type": "markdown",
   "metadata": {
    "id": "QP8njgs11R7W"
   },
   "source": [
    "There are 3 entries for all columns of the group alumni. There are two current students, but one of the scores is missing. Hence, we get the output 1."
   ]
  },
  {
   "cell_type": "markdown",
   "metadata": {
    "id": "hxQu-Hd9KAZq"
   },
   "source": [
    "### sum\n",
    "\n",
    "We can sum the elements of the group."
   ]
  },
  {
   "cell_type": "code",
   "execution_count": null,
   "metadata": {
    "colab": {
     "base_uri": "https://localhost:8080/",
     "height": 142
    },
    "executionInfo": {
     "elapsed": 1018,
     "status": "ok",
     "timestamp": 1571826476809,
     "user": {
      "displayName": "Digya Acharya",
      "photoUrl": "https://lh3.googleusercontent.com/a-/AAuE7mDQGFqul45gL_YMWW21pZDjfemVsj-sTDyefPiJ=s64",
      "userId": "17664592644574510343"
     },
     "user_tz": -345
    },
    "id": "kvT31VTPKIJV",
    "outputId": "237d0630-f458-4705-84a4-2b42fa310186"
   },
   "outputs": [
    {
     "data": {
      "text/html": [
       "<div>\n",
       "<style scoped>\n",
       "    .dataframe tbody tr th:only-of-type {\n",
       "        vertical-align: middle;\n",
       "    }\n",
       "\n",
       "    .dataframe tbody tr th {\n",
       "        vertical-align: top;\n",
       "    }\n",
       "\n",
       "    .dataframe thead th {\n",
       "        text-align: right;\n",
       "    }\n",
       "</style>\n",
       "<table border=\"1\" class=\"dataframe\">\n",
       "  <thead>\n",
       "    <tr style=\"text-align: right;\">\n",
       "      <th></th>\n",
       "      <th>Score</th>\n",
       "      <th>Score2</th>\n",
       "    </tr>\n",
       "    <tr>\n",
       "      <th>Status</th>\n",
       "      <th></th>\n",
       "      <th></th>\n",
       "    </tr>\n",
       "  </thead>\n",
       "  <tbody>\n",
       "    <tr>\n",
       "      <th>Alumni</th>\n",
       "      <td>244</td>\n",
       "      <td>278.0</td>\n",
       "    </tr>\n",
       "    <tr>\n",
       "      <th>Current</th>\n",
       "      <td>154</td>\n",
       "      <td>67.0</td>\n",
       "    </tr>\n",
       "  </tbody>\n",
       "</table>\n",
       "</div>"
      ],
      "text/plain": [
       "         Score  Score2\n",
       "Status                \n",
       "Alumni     244   278.0\n",
       "Current    154    67.0"
      ]
     },
     "execution_count": 11,
     "metadata": {
      "tags": []
     },
     "output_type": "execute_result"
    }
   ],
   "source": [
    "status.sum()"
   ]
  },
  {
   "cell_type": "markdown",
   "metadata": {
    "id": "T_L6mnQ0KLIe"
   },
   "source": [
    "### max\n",
    "\n",
    "We can also group by maximum value."
   ]
  },
  {
   "cell_type": "code",
   "execution_count": null,
   "metadata": {
    "colab": {
     "base_uri": "https://localhost:8080/",
     "height": 107
    },
    "executionInfo": {
     "elapsed": 1076,
     "status": "ok",
     "timestamp": 1571826616736,
     "user": {
      "displayName": "Digya Acharya",
      "photoUrl": "https://lh3.googleusercontent.com/a-/AAuE7mDQGFqul45gL_YMWW21pZDjfemVsj-sTDyefPiJ=s64",
      "userId": "17664592644574510343"
     },
     "user_tz": -345
    },
    "id": "IEULyqLHKQ1R",
    "outputId": "ea5eca8c-7134-4387-95e4-d5b8e212645d"
   },
   "outputs": [
    {
     "name": "stdout",
     "output_type": "stream",
     "text": [
      "Max\n",
      "        Name         Fees  Score  Score2\n",
      "Status                                  \n",
      "Alumni   Sam  Scholarship     89    96.0\n",
      "Current  Bob          Due     78    67.0\n"
     ]
    }
   ],
   "source": [
    "print(\"Max\")\n",
    "print(status.max())"
   ]
  },
  {
   "cell_type": "code",
   "execution_count": null,
   "metadata": {
    "id": "hBMEIaCOyRuz"
   },
   "outputs": [],
   "source": []
  },
  {
   "cell_type": "markdown",
   "metadata": {
    "id": "45n_F1_JKwIk"
   },
   "source": [
    "Similarly, we can group by minimum value."
   ]
  },
  {
   "cell_type": "markdown",
   "metadata": {
    "id": "eLCO7FyX27cc"
   },
   "source": [
    "### Finding unique values\n",
    "\n",
    "In some cases, we might want to find the number of unique values in a dataset. For example, you might want to know about the home countries of the students. This function only counts unique values, so even if a country is repeated, then it counts the country once."
   ]
  },
  {
   "cell_type": "code",
   "execution_count": null,
   "metadata": {
    "colab": {
     "base_uri": "https://localhost:8080/",
     "height": 142
    },
    "executionInfo": {
     "elapsed": 5801,
     "status": "ok",
     "timestamp": 1571825827517,
     "user": {
      "displayName": "Digya Acharya",
      "photoUrl": "https://lh3.googleusercontent.com/a-/AAuE7mDQGFqul45gL_YMWW21pZDjfemVsj-sTDyefPiJ=s64",
      "userId": "17664592644574510343"
     },
     "user_tz": -345
    },
    "id": "2CrwgRX63hSx",
    "outputId": "0fa51aa2-2571-4874-a5ea-d7ae2ccff540"
   },
   "outputs": [
    {
     "data": {
      "text/html": [
       "<div>\n",
       "<style scoped>\n",
       "    .dataframe tbody tr th:only-of-type {\n",
       "        vertical-align: middle;\n",
       "    }\n",
       "\n",
       "    .dataframe tbody tr th {\n",
       "        vertical-align: top;\n",
       "    }\n",
       "\n",
       "    .dataframe thead th {\n",
       "        text-align: right;\n",
       "    }\n",
       "</style>\n",
       "<table border=\"1\" class=\"dataframe\">\n",
       "  <thead>\n",
       "    <tr style=\"text-align: right;\">\n",
       "      <th></th>\n",
       "      <th>Name</th>\n",
       "      <th>Status</th>\n",
       "      <th>Fees</th>\n",
       "      <th>Score</th>\n",
       "      <th>Score2</th>\n",
       "    </tr>\n",
       "    <tr>\n",
       "      <th>Status</th>\n",
       "      <th></th>\n",
       "      <th></th>\n",
       "      <th></th>\n",
       "      <th></th>\n",
       "      <th></th>\n",
       "    </tr>\n",
       "  </thead>\n",
       "  <tbody>\n",
       "    <tr>\n",
       "      <th>Alumni</th>\n",
       "      <td>3</td>\n",
       "      <td>1</td>\n",
       "      <td>2</td>\n",
       "      <td>3</td>\n",
       "      <td>3</td>\n",
       "    </tr>\n",
       "    <tr>\n",
       "      <th>Current</th>\n",
       "      <td>2</td>\n",
       "      <td>1</td>\n",
       "      <td>1</td>\n",
       "      <td>2</td>\n",
       "      <td>1</td>\n",
       "    </tr>\n",
       "  </tbody>\n",
       "</table>\n",
       "</div>"
      ],
      "text/plain": [
       "         Name  Status  Fees  Score  Score2\n",
       "Status                                    \n",
       "Alumni      3       1     2      3       3\n",
       "Current     2       1     1      2       1"
      ]
     },
     "execution_count": 6,
     "metadata": {
      "tags": []
     },
     "output_type": "execute_result"
    }
   ],
   "source": [
    "status.nunique()"
   ]
  },
  {
   "cell_type": "markdown",
   "metadata": {
    "id": "RXaadKnC3mff"
   },
   "source": [
    "There are five different names, two different statuses, three different fees, and so on. "
   ]
  },
  {
   "cell_type": "markdown",
   "metadata": {
    "id": "XpszvWiv4H6J"
   },
   "source": [
    "You can also numerically compare the different groups we have made using the groupby method in pandas. For example, one might imagine a scenario where they want to find the mean of the scores of the current students, in comparison to older ones. The following command can perform this calculation."
   ]
  },
  {
   "cell_type": "code",
   "execution_count": null,
   "metadata": {
    "colab": {
     "base_uri": "https://localhost:8080/",
     "height": 142
    },
    "executionInfo": {
     "elapsed": 5794,
     "status": "ok",
     "timestamp": 1571825827518,
     "user": {
      "displayName": "Digya Acharya",
      "photoUrl": "https://lh3.googleusercontent.com/a-/AAuE7mDQGFqul45gL_YMWW21pZDjfemVsj-sTDyefPiJ=s64",
      "userId": "17664592644574510343"
     },
     "user_tz": -345
    },
    "id": "8rhnlX_c4nDF",
    "outputId": "af78510f-c9f1-4fbe-8261-29d6cb1b261a"
   },
   "outputs": [
    {
     "data": {
      "text/html": [
       "<div>\n",
       "<style scoped>\n",
       "    .dataframe tbody tr th:only-of-type {\n",
       "        vertical-align: middle;\n",
       "    }\n",
       "\n",
       "    .dataframe tbody tr th {\n",
       "        vertical-align: top;\n",
       "    }\n",
       "\n",
       "    .dataframe thead th {\n",
       "        text-align: right;\n",
       "    }\n",
       "</style>\n",
       "<table border=\"1\" class=\"dataframe\">\n",
       "  <thead>\n",
       "    <tr style=\"text-align: right;\">\n",
       "      <th></th>\n",
       "      <th>Score</th>\n",
       "      <th>Score2</th>\n",
       "    </tr>\n",
       "    <tr>\n",
       "      <th>Status</th>\n",
       "      <th></th>\n",
       "      <th></th>\n",
       "    </tr>\n",
       "  </thead>\n",
       "  <tbody>\n",
       "    <tr>\n",
       "      <th>Alumni</th>\n",
       "      <td>81.333333</td>\n",
       "      <td>92.666667</td>\n",
       "    </tr>\n",
       "    <tr>\n",
       "      <th>Current</th>\n",
       "      <td>77.000000</td>\n",
       "      <td>67.000000</td>\n",
       "    </tr>\n",
       "  </tbody>\n",
       "</table>\n",
       "</div>"
      ],
      "text/plain": [
       "             Score     Score2\n",
       "Status                       \n",
       "Alumni   81.333333  92.666667\n",
       "Current  77.000000  67.000000"
      ]
     },
     "execution_count": 7,
     "metadata": {
      "tags": []
     },
     "output_type": "execute_result"
    }
   ],
   "source": [
    "status.mean()"
   ]
  },
  {
   "cell_type": "markdown",
   "metadata": {
    "id": "Nmtbqmz14qVO"
   },
   "source": [
    "Notice that pandas automatically discards all categorical features, since they have strings. It also throws away any missing values. It looks like the Alumni have higher marks than the current students. "
   ]
  },
  {
   "cell_type": "markdown",
   "metadata": {
    "id": "dvmNn6ZVOmRC"
   },
   "source": [
    "### Grouping more than one column\n",
    "\n",
    "### Grouping more than one column\n",
    "\n",
    "You might want to analyze two columns at once. You might be trying to find how many alumni still have their fees pending. You can do so using the following commands."
   ]
  },
  {
   "cell_type": "code",
   "execution_count": null,
   "metadata": {
    "colab": {
     "base_uri": "https://localhost:8080/",
     "height": 107
    },
    "executionInfo": {
     "elapsed": 5782,
     "status": "ok",
     "timestamp": 1571825827521,
     "user": {
      "displayName": "Digya Acharya",
      "photoUrl": "https://lh3.googleusercontent.com/a-/AAuE7mDQGFqul45gL_YMWW21pZDjfemVsj-sTDyefPiJ=s64",
      "userId": "17664592644574510343"
     },
     "user_tz": -345
    },
    "id": "mP7sCnVC7qst",
    "outputId": "d8eb9d8b-6ad7-4474-f24c-82d83949b68f"
   },
   "outputs": [
    {
     "data": {
      "text/plain": [
       "Status   Fees       \n",
       "Alumni   Clear          1\n",
       "         Scholarship    2\n",
       "Current  Due            2\n",
       "dtype: int64"
      ]
     },
     "execution_count": 9,
     "metadata": {
      "tags": []
     },
     "output_type": "execute_result"
    }
   ],
   "source": [
    "new_group = df.groupby(['Status', 'Fees'])\n",
    "new_group.size()"
   ]
  },
  {
   "cell_type": "markdown",
   "metadata": {
    "id": "AcPC_qlk7-Ch"
   },
   "source": [
    "According to the output above, there were two alumni on scholarship, and one has their dues cleared. Two current students have their fees due. \n",
    "\n",
    "Notice that we used the `.size()` method. It is similar to `count()`. It just gives back the size of the group. "
   ]
  },
  {
   "cell_type": "markdown",
   "metadata": {
    "id": "4oG2kOv8ZF6z"
   },
   "source": [
    "### Aggregations"
   ]
  },
  {
   "cell_type": "markdown",
   "metadata": {
    "id": "cPXg_tqIOjDl"
   },
   "source": [
    "We have learned that we can perform many aggregations in Pandas. With aggregate(), you can even perform more than one aggregates at once."
   ]
  },
  {
   "cell_type": "markdown",
   "metadata": {
    "id": "pYf1weMm5zuZ"
   },
   "source": [
    "Let us suppose you are analyzing data from a business. You might want to perform many statistical tests on the data. Let us apply different statistical measures on the data. "
   ]
  },
  {
   "cell_type": "code",
   "execution_count": null,
   "metadata": {
    "colab": {
     "base_uri": "https://localhost:8080/",
     "height": 173
    },
    "executionInfo": {
     "elapsed": 5789,
     "status": "ok",
     "timestamp": 1571825827520,
     "user": {
      "displayName": "Digya Acharya",
      "photoUrl": "https://lh3.googleusercontent.com/a-/AAuE7mDQGFqul45gL_YMWW21pZDjfemVsj-sTDyefPiJ=s64",
      "userId": "17664592644574510343"
     },
     "user_tz": -345
    },
    "id": "aKA1_K1A6L1o",
    "outputId": "0f771802-ed73-4258-c573-d3a984291dd6"
   },
   "outputs": [
    {
     "data": {
      "text/html": [
       "<div>\n",
       "<style scoped>\n",
       "    .dataframe tbody tr th:only-of-type {\n",
       "        vertical-align: middle;\n",
       "    }\n",
       "\n",
       "    .dataframe tbody tr th {\n",
       "        vertical-align: top;\n",
       "    }\n",
       "\n",
       "    .dataframe thead tr th {\n",
       "        text-align: left;\n",
       "    }\n",
       "\n",
       "    .dataframe thead tr:last-of-type th {\n",
       "        text-align: right;\n",
       "    }\n",
       "</style>\n",
       "<table border=\"1\" class=\"dataframe\">\n",
       "  <thead>\n",
       "    <tr>\n",
       "      <th></th>\n",
       "      <th colspan=\"5\" halign=\"left\">Score</th>\n",
       "      <th colspan=\"5\" halign=\"left\">Score2</th>\n",
       "    </tr>\n",
       "    <tr>\n",
       "      <th></th>\n",
       "      <th>mean</th>\n",
       "      <th>median</th>\n",
       "      <th>std</th>\n",
       "      <th>min</th>\n",
       "      <th>max</th>\n",
       "      <th>mean</th>\n",
       "      <th>median</th>\n",
       "      <th>std</th>\n",
       "      <th>min</th>\n",
       "      <th>max</th>\n",
       "    </tr>\n",
       "    <tr>\n",
       "      <th>Status</th>\n",
       "      <th></th>\n",
       "      <th></th>\n",
       "      <th></th>\n",
       "      <th></th>\n",
       "      <th></th>\n",
       "      <th></th>\n",
       "      <th></th>\n",
       "      <th></th>\n",
       "      <th></th>\n",
       "      <th></th>\n",
       "    </tr>\n",
       "  </thead>\n",
       "  <tbody>\n",
       "    <tr>\n",
       "      <th>Alumni</th>\n",
       "      <td>81.333333</td>\n",
       "      <td>87</td>\n",
       "      <td>11.590226</td>\n",
       "      <td>68</td>\n",
       "      <td>89</td>\n",
       "      <td>92.666667</td>\n",
       "      <td>95.0</td>\n",
       "      <td>4.932883</td>\n",
       "      <td>87.0</td>\n",
       "      <td>96.0</td>\n",
       "    </tr>\n",
       "    <tr>\n",
       "      <th>Current</th>\n",
       "      <td>77.000000</td>\n",
       "      <td>77</td>\n",
       "      <td>1.414214</td>\n",
       "      <td>76</td>\n",
       "      <td>78</td>\n",
       "      <td>67.000000</td>\n",
       "      <td>67.0</td>\n",
       "      <td>NaN</td>\n",
       "      <td>67.0</td>\n",
       "      <td>67.0</td>\n",
       "    </tr>\n",
       "  </tbody>\n",
       "</table>\n",
       "</div>"
      ],
      "text/plain": [
       "             Score                        ... Score2                      \n",
       "              mean median        std min  ... median       std   min   max\n",
       "Status                                    ...                             \n",
       "Alumni   81.333333     87  11.590226  68  ...   95.0  4.932883  87.0  96.0\n",
       "Current  77.000000     77   1.414214  76  ...   67.0       NaN  67.0  67.0\n",
       "\n",
       "[2 rows x 10 columns]"
      ]
     },
     "execution_count": 8,
     "metadata": {
      "tags": []
     },
     "output_type": "execute_result"
    }
   ],
   "source": [
    "status.agg(['mean','median','std', 'min', 'max'])"
   ]
  },
  {
   "cell_type": "markdown",
   "metadata": {
    "id": "4QKpMMFZ6Y-b"
   },
   "source": [
    "The code above used the `agg()` method. This method takes as input a list of strings. You can type in the required statistical measure and get results. "
   ]
  },
  {
   "cell_type": "markdown",
   "metadata": {
    "id": "HVa8AR5N8a2h"
   },
   "source": [
    "## References\n",
    "### Documentation\n",
    "- [Groupby](https://pandas.pydata.org/pandas-docs/stable/reference/api/pandas.DataFrame.groupby.html)\n",
    "### Tutorials\n",
    "- [Groupby examples](https://www.marsja.se/python-pandas-groupby-tutorial-examples/)"
   ]
  }
 ],
 "metadata": {
  "colab": {
   "collapsed_sections": [],
   "name": "Read: Groupby.ipynb",
   "provenance": []
  },
  "kernelspec": {
   "display_name": "Python 3",
   "language": "python",
   "name": "python3"
  },
  "language_info": {
   "codemirror_mode": {
    "name": "ipython",
    "version": 3
   },
   "file_extension": ".py",
   "mimetype": "text/x-python",
   "name": "python",
   "nbconvert_exporter": "python",
   "pygments_lexer": "ipython3",
   "version": "3.8.3"
  }
 },
 "nbformat": 4,
 "nbformat_minor": 1
}
